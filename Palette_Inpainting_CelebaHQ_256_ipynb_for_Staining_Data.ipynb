{
  "cells": [
    {
      "cell_type": "markdown",
      "metadata": {
        "id": "view-in-github",
        "colab_type": "text"
      },
      "source": [
        "<a href=\"https://colab.research.google.com/github/v-puppala/Palette_Inpainting_CelebaHQ_256_ipynb_for_Staining_Data/blob/main/Palette_Inpainting_CelebaHQ_256_ipynb_for_Staining_Data.ipynb\" target=\"_parent\"><img src=\"https://colab.research.google.com/assets/colab-badge.svg\" alt=\"Open In Colab\"/></a>"
      ]
    },
    {
      "cell_type": "markdown",
      "metadata": {
        "id": "CEjhf7vLah-q"
      },
      "source": [
        "## Image inpainting\n",
        "A demo for image inpainting on Celeba-HQ based on [Palette](https://github.com/Janspiry/Palette-Image-to-Image-Diffusion-Models)."
      ]
    },
    {
      "cell_type": "code",
      "execution_count": 1,
      "metadata": {
        "id": "kaoe_fadm_ed",
        "colab": {
          "base_uri": "https://localhost:8080/"
        },
        "outputId": "c5c7c6b4-89f9-4fbd-db5d-f3690ea3ade8"
      },
      "outputs": [
        {
          "output_type": "stream",
          "name": "stdout",
          "text": [
            "Mounted at /content/drive\n"
          ]
        }
      ],
      "source": [
        "from google.colab import drive\n",
        "drive.mount('/content/drive')"
      ]
    },
    {
      "cell_type": "code",
      "execution_count": null,
      "metadata": {
        "id": "-ObX2EhpuKh-",
        "colab": {
          "base_uri": "https://localhost:8080/",
          "height": 375
        },
        "outputId": "3ff4616f-0369-40a6-dad0-fcafb1b97206"
      },
      "outputs": [
        {
          "output_type": "error",
          "ename": "Error",
          "evalue": "ignored",
          "traceback": [
            "\u001b[0;31m---------------------------------------------------------------------------\u001b[0m",
            "\u001b[0;31mError\u001b[0m                                     Traceback (most recent call last)",
            "\u001b[0;32m<ipython-input-2-3d82eb44075e>\u001b[0m in \u001b[0;36m<cell line: 7>\u001b[0;34m()\u001b[0m\n\u001b[1;32m      5\u001b[0m \u001b[0mdestination_folder\u001b[0m \u001b[0;34m=\u001b[0m \u001b[0;34m'/content/Palette-Image-to-Image-Diffusion-Models'\u001b[0m\u001b[0;34m\u001b[0m\u001b[0;34m\u001b[0m\u001b[0m\n\u001b[1;32m      6\u001b[0m \u001b[0;34m\u001b[0m\u001b[0m\n\u001b[0;32m----> 7\u001b[0;31m \u001b[0mshutil\u001b[0m\u001b[0;34m.\u001b[0m\u001b[0mmove\u001b[0m\u001b[0;34m(\u001b[0m\u001b[0msource_file\u001b[0m\u001b[0;34m,\u001b[0m \u001b[0mdestination_folder\u001b[0m\u001b[0;34m)\u001b[0m\u001b[0;34m\u001b[0m\u001b[0;34m\u001b[0m\u001b[0m\n\u001b[0m\u001b[1;32m      8\u001b[0m \u001b[0mshutil\u001b[0m\u001b[0;34m.\u001b[0m\u001b[0mmove\u001b[0m\u001b[0;34m(\u001b[0m\u001b[0msource_file1\u001b[0m\u001b[0;34m,\u001b[0m \u001b[0mdestination_folder\u001b[0m\u001b[0;34m)\u001b[0m\u001b[0;34m\u001b[0m\u001b[0;34m\u001b[0m\u001b[0m\n",
            "\u001b[0;32m/usr/lib/python3.10/shutil.py\u001b[0m in \u001b[0;36mmove\u001b[0;34m(src, dst, copy_function)\u001b[0m\n\u001b[1;32m    812\u001b[0m \u001b[0;34m\u001b[0m\u001b[0m\n\u001b[1;32m    813\u001b[0m         \u001b[0;32mif\u001b[0m \u001b[0mos\u001b[0m\u001b[0;34m.\u001b[0m\u001b[0mpath\u001b[0m\u001b[0;34m.\u001b[0m\u001b[0mexists\u001b[0m\u001b[0;34m(\u001b[0m\u001b[0mreal_dst\u001b[0m\u001b[0;34m)\u001b[0m\u001b[0;34m:\u001b[0m\u001b[0;34m\u001b[0m\u001b[0;34m\u001b[0m\u001b[0m\n\u001b[0;32m--> 814\u001b[0;31m             \u001b[0;32mraise\u001b[0m \u001b[0mError\u001b[0m\u001b[0;34m(\u001b[0m\u001b[0;34m\"Destination path '%s' already exists\"\u001b[0m \u001b[0;34m%\u001b[0m \u001b[0mreal_dst\u001b[0m\u001b[0;34m)\u001b[0m\u001b[0;34m\u001b[0m\u001b[0;34m\u001b[0m\u001b[0m\n\u001b[0m\u001b[1;32m    815\u001b[0m     \u001b[0;32mtry\u001b[0m\u001b[0;34m:\u001b[0m\u001b[0;34m\u001b[0m\u001b[0;34m\u001b[0m\u001b[0m\n\u001b[1;32m    816\u001b[0m         \u001b[0mos\u001b[0m\u001b[0;34m.\u001b[0m\u001b[0mrename\u001b[0m\u001b[0;34m(\u001b[0m\u001b[0msrc\u001b[0m\u001b[0;34m,\u001b[0m \u001b[0mreal_dst\u001b[0m\u001b[0;34m)\u001b[0m\u001b[0;34m\u001b[0m\u001b[0;34m\u001b[0m\u001b[0m\n",
            "\u001b[0;31mError\u001b[0m: Destination path '/content/Palette-Image-to-Image-Diffusion-Models/10.state' already exists"
          ]
        }
      ],
      "source": [
        "import shutil\n",
        "\n",
        "source_file = '/content/drive/MyDrive/PytorchModels/10.state'\n",
        "source_file1='/content/drive/MyDrive/PytorchModels/10_Network.pth'\n",
        "destination_folder = '/content/Palette-Image-to-Image-Diffusion-Models'\n",
        "\n",
        "shutil.move(source_file, destination_folder)\n",
        "shutil.move(source_file1, destination_folder)\n"
      ]
    },
    {
      "cell_type": "markdown",
      "metadata": {
        "id": "8VFpuekybeQK"
      },
      "source": [
        "## Setup"
      ]
    },
    {
      "cell_type": "code",
      "execution_count": 2,
      "metadata": {
        "id": "81tV-xHGgGD-",
        "colab": {
          "base_uri": "https://localhost:8080/"
        },
        "outputId": "945c71d8-1c11-4b6c-b477-cf2c2a7e5e2a"
      },
      "outputs": [
        {
          "output_type": "stream",
          "name": "stdout",
          "text": [
            "/content\n",
            "Cloning into 'Palette-Image-to-Image-Diffusion-Models'...\n",
            "remote: Enumerating objects: 317, done.\u001b[K\n",
            "remote: Counting objects: 100% (146/146), done.\u001b[K\n",
            "remote: Compressing objects: 100% (45/45), done.\u001b[K\n",
            "remote: Total 317 (delta 115), reused 101 (delta 101), pack-reused 171\u001b[K\n",
            "Receiving objects: 100% (317/317), 6.87 MiB | 17.98 MiB/s, done.\n",
            "Resolving deltas: 100% (176/176), done.\n"
          ]
        }
      ],
      "source": [
        "%cd /content/\n",
        "!git clone https://github.com/v-puppala/Palette-Image-to-Image-Diffusion-Models"
      ]
    },
    {
      "cell_type": "code",
      "source": [
        "%cd /content/Palette-Image-to-Image-Diffusion-Models/\n"
      ],
      "metadata": {
        "colab": {
          "base_uri": "https://localhost:8080/"
        },
        "id": "SKL_wfUyHAWz",
        "outputId": "3df5873d-16b9-42b8-e292-f0399dacc692"
      },
      "execution_count": null,
      "outputs": [
        {
          "output_type": "stream",
          "name": "stdout",
          "text": [
            "/content/Palette-Image-to-Image-Diffusion-Models\n"
          ]
        }
      ]
    },
    {
      "cell_type": "markdown",
      "metadata": {
        "id": "g61fFV2wtO8e"
      },
      "source": [
        "### Upload data"
      ]
    },
    {
      "cell_type": "code",
      "execution_count": null,
      "metadata": {
        "colab": {
          "base_uri": "https://localhost:8080/"
        },
        "id": "215VNFO6owT0",
        "outputId": "4d7f9d07-742d-414c-dd9e-f6849dc6a104"
      },
      "outputs": [
        {
          "output_type": "stream",
          "name": "stdout",
          "text": [
            "/content/Palette-Image-to-Image-Diffusion-Models\n",
            "/content/Palette-Image-to-Image-Diffusion-Models/input\n"
          ]
        }
      ],
      "source": [
        "%cd /content/Palette-Image-to-Image-Diffusion-Models/\n",
        "!mkdir -p input\n",
        "%cd /content/Palette-Image-to-Image-Diffusion-Models/input/\n"
      ]
    },
    {
      "cell_type": "markdown",
      "metadata": {
        "id": "4vsYupOskq8K"
      },
      "source": [
        "### Get the GPU\n",
        "\n",
        "*   Turn on hardware acceleration under `Runtime -> Change Runtime Type -> Hardware accelerator -> GPU`\n",
        "*   Use this command to ensure that the connected machine has a GPU:"
      ]
    },
    {
      "cell_type": "markdown",
      "metadata": {
        "id": "bj_ejuVrk7a2"
      },
      "source": []
    },
    {
      "cell_type": "code",
      "execution_count": null,
      "metadata": {
        "colab": {
          "base_uri": "https://localhost:8080/"
        },
        "id": "K9gSge3maQBm",
        "outputId": "60aa04c8-75cc-4bab-f5a8-bcd829555d99"
      },
      "outputs": [
        {
          "name": "stdout",
          "output_type": "stream",
          "text": [
            "/bin/bash: line 1: nvidia-smi: command not found\n"
          ]
        }
      ],
      "source": [
        "!nvidia-smi --query-gpu=gpu_name,driver_version,memory.total --format=csv"
      ]
    },
    {
      "cell_type": "markdown",
      "metadata": {
        "id": "A7M2-lM0fszr"
      },
      "source": [
        "### Clone repo"
      ]
    },
    {
      "cell_type": "markdown",
      "metadata": {
        "id": "Y1jruBx1gWne"
      },
      "source": [
        "### Install requirements"
      ]
    },
    {
      "cell_type": "code",
      "execution_count": null,
      "metadata": {
        "colab": {
          "base_uri": "https://localhost:8080/"
        },
        "id": "hHuiUIA2gay5",
        "outputId": "98c94415-eda4-492f-8701-b516b3ee341b"
      },
      "outputs": [
        {
          "name": "stdout",
          "output_type": "stream",
          "text": [
            "Package                          Version\n",
            "-------------------------------- ---------------------\n",
            "absl-py                          1.4.0\n",
            "aiohttp                          3.8.6\n",
            "aiosignal                        1.3.1\n",
            "alabaster                        0.7.13\n",
            "albumentations                   1.3.1\n",
            "altair                           4.2.2\n",
            "anyio                            3.7.1\n",
            "appdirs                          1.4.4\n",
            "argon2-cffi                      23.1.0\n",
            "argon2-cffi-bindings             21.2.0\n",
            "array-record                     0.5.0\n",
            "arviz                            0.15.1\n",
            "astropy                          5.3.4\n",
            "astunparse                       1.6.3\n",
            "async-timeout                    4.0.3\n",
            "atpublic                         4.0\n",
            "attrs                            23.1.0\n",
            "audioread                        3.0.1\n",
            "autograd                         1.6.2\n",
            "Babel                            2.13.1\n",
            "backcall                         0.2.0\n",
            "beautifulsoup4                   4.11.2\n",
            "bidict                           0.22.1\n",
            "bigframes                        0.10.0\n",
            "bleach                           6.1.0\n",
            "blinker                          1.4\n",
            "blis                             0.7.11\n",
            "blosc2                           2.0.0\n",
            "bokeh                            3.2.2\n",
            "bqplot                           0.12.42\n",
            "branca                           0.6.0\n",
            "build                            1.0.3\n",
            "CacheControl                     0.13.1\n",
            "cachetools                       5.3.2\n",
            "catalogue                        2.0.10\n",
            "certifi                          2023.7.22\n",
            "cffi                             1.16.0\n",
            "chardet                          5.2.0\n",
            "charset-normalizer               3.3.1\n",
            "chex                             0.1.7\n",
            "click                            8.1.7\n",
            "click-plugins                    1.1.1\n",
            "cligj                            0.7.2\n",
            "cloudpickle                      2.2.1\n",
            "cmake                            3.27.7\n",
            "cmdstanpy                        1.2.0\n",
            "colorcet                         3.0.1\n",
            "colorlover                       0.3.0\n",
            "colour                           0.1.5\n",
            "community                        1.0.0b1\n",
            "confection                       0.1.3\n",
            "cons                             0.4.6\n",
            "contextlib2                      21.6.0\n",
            "contourpy                        1.1.1\n",
            "cryptography                     41.0.5\n",
            "cufflinks                        0.17.3\n",
            "cupy-cuda11x                     11.0.0\n",
            "cvxopt                           1.3.2\n",
            "cvxpy                            1.3.2\n",
            "cycler                           0.12.1\n",
            "cymem                            2.0.8\n",
            "Cython                           3.0.4\n",
            "dask                             2023.8.1\n",
            "datascience                      0.17.6\n",
            "db-dtypes                        1.1.1\n",
            "dbus-python                      1.2.18\n",
            "debugpy                          1.6.6\n",
            "decorator                        4.4.2\n",
            "defusedxml                       0.7.1\n",
            "diskcache                        5.6.3\n",
            "distributed                      2023.8.1\n",
            "distro                           1.7.0\n",
            "dlib                             19.24.2\n",
            "dm-tree                          0.1.8\n",
            "docutils                         0.18.1\n",
            "dopamine-rl                      4.0.6\n",
            "duckdb                           0.8.1\n",
            "earthengine-api                  0.1.375\n",
            "easydict                         1.11\n",
            "ecos                             2.0.12\n",
            "editdistance                     0.6.2\n",
            "eerepr                           0.0.4\n",
            "en-core-web-sm                   3.6.0\n",
            "entrypoints                      0.4\n",
            "et-xmlfile                       1.1.0\n",
            "etils                            1.5.2\n",
            "etuples                          0.3.9\n",
            "exceptiongroup                   1.1.3\n",
            "fastai                           2.7.13\n",
            "fastcore                         1.5.29\n",
            "fastdownload                     0.0.7\n",
            "fastjsonschema                   2.18.1\n",
            "fastprogress                     1.0.3\n",
            "fastrlock                        0.8.2\n",
            "filelock                         3.12.4\n",
            "fiona                            1.9.5\n",
            "firebase-admin                   5.3.0\n",
            "Flask                            2.2.5\n",
            "flatbuffers                      23.5.26\n",
            "flax                             0.7.4\n",
            "folium                           0.14.0\n",
            "fonttools                        4.43.1\n",
            "frozendict                       2.3.8\n",
            "frozenlist                       1.4.0\n",
            "fsspec                           2023.6.0\n",
            "future                           0.18.3\n",
            "gast                             0.5.4\n",
            "gcsfs                            2023.6.0\n",
            "GDAL                             3.4.3\n",
            "gdown                            4.6.6\n",
            "geemap                           0.28.2\n",
            "gensim                           4.3.2\n",
            "geocoder                         1.38.1\n",
            "geographiclib                    2.0\n",
            "geopandas                        0.13.2\n",
            "geopy                            2.3.0\n",
            "gin-config                       0.5.0\n",
            "glob2                            0.7\n",
            "google                           2.0.3\n",
            "google-api-core                  2.11.1\n",
            "google-api-python-client         2.84.0\n",
            "google-auth                      2.17.3\n",
            "google-auth-httplib2             0.1.1\n",
            "google-auth-oauthlib             1.0.0\n",
            "google-cloud-bigquery            3.12.0\n",
            "google-cloud-bigquery-connection 1.12.1\n",
            "google-cloud-bigquery-storage    2.22.0\n",
            "google-cloud-core                2.3.3\n",
            "google-cloud-datastore           2.15.2\n",
            "google-cloud-firestore           2.11.1\n",
            "google-cloud-functions           1.13.3\n",
            "google-cloud-iam                 2.12.2\n",
            "google-cloud-language            2.9.1\n",
            "google-cloud-resource-manager    1.10.4\n",
            "google-cloud-storage             2.8.0\n",
            "google-cloud-translate           3.11.3\n",
            "google-colab                     1.0.0\n",
            "google-crc32c                    1.5.0\n",
            "google-pasta                     0.2.0\n",
            "google-resumable-media           2.6.0\n",
            "googleapis-common-protos         1.61.0\n",
            "googledrivedownloader            0.4\n",
            "graphviz                         0.20.1\n",
            "greenlet                         3.0.0\n",
            "grpc-google-iam-v1               0.12.6\n",
            "grpcio                           1.59.0\n",
            "grpcio-status                    1.48.2\n",
            "gspread                          3.4.2\n",
            "gspread-dataframe                3.3.1\n",
            "gym                              0.25.2\n",
            "gym-notices                      0.0.8\n",
            "h5netcdf                         1.2.0\n",
            "h5py                             3.9.0\n",
            "holidays                         0.35\n",
            "holoviews                        1.17.1\n",
            "html5lib                         1.1\n",
            "httpimport                       1.3.1\n",
            "httplib2                         0.22.0\n",
            "humanize                         4.7.0\n",
            "hyperopt                         0.2.7\n",
            "ibis-framework                   6.2.0\n",
            "idna                             3.4\n",
            "imageio                          2.31.6\n",
            "imageio-ffmpeg                   0.4.9\n",
            "imagesize                        1.4.1\n",
            "imbalanced-learn                 0.10.1\n",
            "imgaug                           0.4.0\n",
            "importlib-metadata               6.8.0\n",
            "importlib-resources              6.1.0\n",
            "imutils                          0.5.4\n",
            "inflect                          7.0.0\n",
            "iniconfig                        2.0.0\n",
            "install                          1.3.5\n",
            "intel-openmp                     2023.2.0\n",
            "ipyevents                        2.0.2\n",
            "ipyfilechooser                   0.6.0\n",
            "ipykernel                        5.5.6\n",
            "ipyleaflet                       0.17.4\n",
            "ipython                          7.34.0\n",
            "ipython-genutils                 0.2.0\n",
            "ipython-sql                      0.5.0\n",
            "ipytree                          0.2.2\n",
            "ipywidgets                       7.7.1\n",
            "itsdangerous                     2.1.2\n",
            "jax                              0.4.16\n",
            "jaxlib                           0.4.16+cuda11.cudnn86\n",
            "jeepney                          0.7.1\n",
            "jieba                            0.42.1\n",
            "Jinja2                           3.1.2\n",
            "joblib                           1.3.2\n",
            "jsonpickle                       3.0.2\n",
            "jsonschema                       4.19.1\n",
            "jsonschema-specifications        2023.7.1\n",
            "jupyter-client                   6.1.12\n",
            "jupyter-console                  6.1.0\n",
            "jupyter_core                     5.4.0\n",
            "jupyter-server                   1.24.0\n",
            "jupyterlab-pygments              0.2.2\n",
            "jupyterlab-widgets               3.0.9\n",
            "kaggle                           1.5.16\n",
            "keras                            2.14.0\n",
            "keyring                          23.5.0\n",
            "kiwisolver                       1.4.5\n",
            "langcodes                        3.3.0\n",
            "launchpadlib                     1.10.16\n",
            "lazr.restfulclient               0.14.4\n",
            "lazr.uri                         1.0.6\n",
            "lazy_loader                      0.3\n",
            "libclang                         16.0.6\n",
            "librosa                          0.10.1\n",
            "lida                             0.0.10\n",
            "lightgbm                         4.1.0\n",
            "linkify-it-py                    2.0.2\n",
            "llmx                             0.0.15a0\n",
            "llvmlite                         0.39.1\n",
            "locket                           1.0.0\n",
            "logical-unification              0.4.6\n",
            "lxml                             4.9.3\n",
            "malloy                           2023.1058\n",
            "Markdown                         3.5\n",
            "markdown-it-py                   3.0.0\n",
            "MarkupSafe                       2.1.3\n",
            "matplotlib                       3.7.1\n",
            "matplotlib-inline                0.1.6\n",
            "matplotlib-venn                  0.11.9\n",
            "mdit-py-plugins                  0.4.0\n",
            "mdurl                            0.1.2\n",
            "miniKanren                       1.0.3\n",
            "missingno                        0.5.2\n",
            "mistune                          0.8.4\n",
            "mizani                           0.9.3\n",
            "mkl                              2023.2.0\n",
            "ml-dtypes                        0.2.0\n",
            "mlxtend                          0.22.0\n",
            "more-itertools                   10.1.0\n",
            "moviepy                          1.0.3\n",
            "mpmath                           1.3.0\n",
            "msgpack                          1.0.7\n",
            "multidict                        6.0.4\n",
            "multipledispatch                 1.0.0\n",
            "multitasking                     0.0.11\n",
            "murmurhash                       1.0.10\n",
            "music21                          9.1.0\n",
            "natsort                          8.4.0\n",
            "nbclassic                        1.0.0\n",
            "nbclient                         0.8.0\n",
            "nbconvert                        6.5.4\n",
            "nbformat                         5.9.2\n",
            "nest-asyncio                     1.5.8\n",
            "networkx                         3.2\n",
            "nibabel                          4.0.2\n",
            "nltk                             3.8.1\n",
            "notebook                         6.5.5\n",
            "notebook_shim                    0.2.3\n",
            "numba                            0.56.4\n",
            "numexpr                          2.8.7\n",
            "numpy                            1.23.5\n",
            "oauth2client                     4.1.3\n",
            "oauthlib                         3.2.2\n",
            "opencv-contrib-python            4.8.0.76\n",
            "opencv-python                    4.8.0.76\n",
            "opencv-python-headless           4.8.1.78\n",
            "openpyxl                         3.1.2\n",
            "opt-einsum                       3.3.0\n",
            "optax                            0.1.7\n",
            "orbax-checkpoint                 0.4.1\n",
            "osqp                             0.6.2.post8\n",
            "packaging                        23.2\n",
            "pandas                           1.5.3\n",
            "pandas-datareader                0.10.0\n",
            "pandas-gbq                       0.17.9\n",
            "pandas-stubs                     1.5.3.230304\n",
            "pandocfilters                    1.5.0\n",
            "panel                            1.3.0\n",
            "param                            2.0.0\n",
            "parso                            0.8.3\n",
            "parsy                            2.1\n",
            "partd                            1.4.1\n",
            "pathlib                          1.0.1\n",
            "pathy                            0.10.3\n",
            "patsy                            0.5.3\n",
            "peewee                           3.17.0\n",
            "pexpect                          4.8.0\n",
            "pickleshare                      0.7.5\n",
            "Pillow                           9.4.0\n",
            "pip                              23.1.2\n",
            "pip-tools                        6.13.0\n",
            "platformdirs                     3.11.0\n",
            "plotly                           5.15.0\n",
            "plotnine                         0.12.3\n",
            "pluggy                           1.3.0\n",
            "polars                           0.17.3\n",
            "pooch                            1.8.0\n",
            "portpicker                       1.5.2\n",
            "prefetch-generator               1.0.3\n",
            "preshed                          3.0.9\n",
            "prettytable                      3.9.0\n",
            "proglog                          0.1.10\n",
            "progressbar2                     4.2.0\n",
            "prometheus-client                0.17.1\n",
            "promise                          2.3\n",
            "prompt-toolkit                   3.0.39\n",
            "prophet                          1.1.5\n",
            "proto-plus                       1.22.3\n",
            "protobuf                         3.20.3\n",
            "psutil                           5.9.5\n",
            "psycopg2                         2.9.9\n",
            "ptyprocess                       0.7.0\n",
            "py-cpuinfo                       9.0.0\n",
            "py4j                             0.10.9.7\n",
            "pyarrow                          9.0.0\n",
            "pyasn1                           0.5.0\n",
            "pyasn1-modules                   0.3.0\n",
            "pycocotools                      2.0.7\n",
            "pycparser                        2.21\n",
            "pyct                             0.5.0\n",
            "pydantic                         1.10.13\n",
            "pydata-google-auth               1.8.2\n",
            "pydot                            1.4.2\n",
            "pydot-ng                         2.0.0\n",
            "pydotplus                        2.0.2\n",
            "PyDrive                          1.3.1\n",
            "PyDrive2                         1.6.3\n",
            "pyerfa                           2.0.1.1\n",
            "pygame                           2.5.2\n",
            "Pygments                         2.16.1\n",
            "PyGObject                        3.42.1\n",
            "PyJWT                            2.3.0\n",
            "pymc                             5.7.2\n",
            "pymystem3                        0.2.0\n",
            "PyOpenGL                         3.1.7\n",
            "pyOpenSSL                        23.2.0\n",
            "pyparsing                        3.1.1\n",
            "pyperclip                        1.8.2\n",
            "pyproj                           3.6.1\n",
            "pyproject_hooks                  1.0.0\n",
            "pyshp                            2.3.1\n",
            "PySocks                          1.7.1\n",
            "pytensor                         2.14.2\n",
            "pytest                           7.4.3\n",
            "python-apt                       0.0.0\n",
            "python-box                       7.1.1\n",
            "python-dateutil                  2.8.2\n",
            "python-louvain                   0.16\n",
            "python-slugify                   8.0.1\n",
            "python-utils                     3.8.1\n",
            "pytz                             2023.3.post1\n",
            "pyviz_comms                      3.0.0\n",
            "PyWavelets                       1.4.1\n",
            "PyYAML                           6.0.1\n",
            "pyzmq                            23.2.1\n",
            "qdldl                            0.1.7.post0\n",
            "qudida                           0.0.4\n",
            "ratelim                          0.1.6\n",
            "referencing                      0.30.2\n",
            "regex                            2023.6.3\n",
            "requests                         2.31.0\n",
            "requests-oauthlib                1.3.1\n",
            "requirements-parser              0.5.0\n",
            "rich                             13.6.0\n",
            "rpds-py                          0.10.6\n",
            "rpy2                             3.4.2\n",
            "rsa                              4.9\n",
            "scikit-image                     0.19.3\n",
            "scikit-learn                     1.2.2\n",
            "scipy                            1.11.3\n",
            "scooby                           0.9.2\n",
            "scs                              3.2.3\n",
            "seaborn                          0.12.2\n",
            "SecretStorage                    3.3.1\n",
            "Send2Trash                       1.8.2\n",
            "setuptools                       67.7.2\n",
            "shapely                          2.0.2\n",
            "six                              1.16.0\n",
            "sklearn-pandas                   2.2.0\n",
            "smart-open                       6.4.0\n",
            "sniffio                          1.3.0\n",
            "snowballstemmer                  2.2.0\n",
            "sortedcontainers                 2.4.0\n",
            "soundfile                        0.12.1\n",
            "soupsieve                        2.5\n",
            "soxr                             0.3.7\n",
            "spacy                            3.6.1\n",
            "spacy-legacy                     3.0.12\n",
            "spacy-loggers                    1.0.5\n",
            "Sphinx                           5.0.2\n",
            "sphinxcontrib-applehelp          1.0.7\n",
            "sphinxcontrib-devhelp            1.0.5\n",
            "sphinxcontrib-htmlhelp           2.0.4\n",
            "sphinxcontrib-jsmath             1.0.1\n",
            "sphinxcontrib-qthelp             1.0.6\n",
            "sphinxcontrib-serializinghtml    1.1.9\n",
            "SQLAlchemy                       2.0.22\n",
            "sqlglot                          17.16.2\n",
            "sqlparse                         0.4.4\n",
            "srsly                            2.4.8\n",
            "stanio                           0.3.0\n",
            "statsmodels                      0.14.0\n",
            "sympy                            1.12\n",
            "tables                           3.8.0\n",
            "tabulate                         0.9.0\n",
            "tbb                              2021.10.0\n",
            "tblib                            3.0.0\n",
            "tenacity                         8.2.3\n",
            "tensorboard                      2.14.1\n",
            "tensorboard-data-server          0.7.2\n",
            "tensorflow                       2.14.0\n",
            "tensorflow-datasets              4.9.3\n",
            "tensorflow-estimator             2.14.0\n",
            "tensorflow-gcs-config            2.14.0\n",
            "tensorflow-hub                   0.15.0\n",
            "tensorflow-io-gcs-filesystem     0.34.0\n",
            "tensorflow-metadata              1.14.0\n",
            "tensorflow-probability           0.22.0\n",
            "tensorstore                      0.1.45\n",
            "termcolor                        2.3.0\n",
            "terminado                        0.17.1\n",
            "text-unidecode                   1.3\n",
            "textblob                         0.17.1\n",
            "tf-slim                          1.1.0\n",
            "thinc                            8.1.12\n",
            "threadpoolctl                    3.2.0\n",
            "tifffile                         2023.9.26\n",
            "tinycss2                         1.2.1\n",
            "toml                             0.10.2\n",
            "tomli                            2.0.1\n",
            "toolz                            0.12.0\n",
            "torch                            2.1.0+cu118\n",
            "torchaudio                       2.1.0+cu118\n",
            "torchdata                        0.7.0\n",
            "torchsummary                     1.5.1\n",
            "torchtext                        0.16.0\n",
            "torchvision                      0.16.0+cu118\n",
            "tornado                          6.3.2\n",
            "tqdm                             4.66.1\n",
            "traitlets                        5.7.1\n",
            "traittypes                       0.2.1\n",
            "triton                           2.1.0\n",
            "tweepy                           4.13.0\n",
            "typer                            0.9.0\n",
            "types-pytz                       2023.3.1.1\n",
            "types-setuptools                 68.2.0.0\n",
            "typing_extensions                4.5.0\n",
            "tzlocal                          5.2\n",
            "uc-micro-py                      1.0.2\n",
            "uritemplate                      4.1.1\n",
            "urllib3                          2.0.7\n",
            "vega-datasets                    0.9.0\n",
            "wadllib                          1.3.6\n",
            "wasabi                           1.1.2\n",
            "wcwidth                          0.2.8\n",
            "webcolors                        1.13\n",
            "webencodings                     0.5.1\n",
            "websocket-client                 1.6.4\n",
            "Werkzeug                         3.0.1\n",
            "wheel                            0.41.2\n",
            "widgetsnbextension               3.6.6\n",
            "wordcloud                        1.9.2\n",
            "wrapt                            1.14.1\n",
            "xarray                           2023.7.0\n",
            "xarray-einstats                  0.6.0\n",
            "xgboost                          2.0.1\n",
            "xlrd                             2.0.1\n",
            "xxhash                           3.4.1\n",
            "xyzservices                      2023.10.0\n",
            "yarl                             1.9.2\n",
            "yellowbrick                      1.5\n",
            "yfinance                         0.2.31\n",
            "zict                             3.0.0\n",
            "zipp                             3.17.0\n"
          ]
        }
      ],
      "source": [
        "!pip list\n",
        "# The default environment can working properly"
      ]
    },
    {
      "cell_type": "markdown",
      "metadata": {
        "id": "0e-2MYEL4pQu"
      },
      "source": [
        "**Shrinking Dataset**"
      ]
    },
    {
      "cell_type": "markdown",
      "metadata": {
        "id": "pvzC8NNp9zwS"
      },
      "source": []
    },
    {
      "cell_type": "code",
      "execution_count": null,
      "metadata": {
        "id": "JeYH34cx5gse"
      },
      "outputs": [],
      "source": [
        "# import os\n",
        "# import random\n",
        "# import shutil\n",
        "\n",
        "# mask_files=os.listdir('/content/drive/MyDrive/output/mask')\n",
        "# sample_size=int(.2*len(mask_files))\n",
        "\n",
        "# new_mask_path='/content/drive/MyDrive/output/new_mask1'\n",
        "# new_files_mask=random.sample(mask_files,sample_size)\n",
        "\n",
        "# if not os.path.exists(new_mask_path):\n",
        "#     os.makedirs(new_mask_path)\n",
        "\n",
        "# for file in new_files_mask:\n",
        "#     shutil.copy(os.path.join('/content/drive/MyDrive/output/mask', file), new_mask_path)\n",
        "\n",
        "\n",
        "\n",
        "# im_files=os.listdir('/content/drive/MyDrive/output/im')\n",
        "\n",
        "# new_im_path='/content/drive/MyDrive/output/new_im1'\n",
        "# new_files_im=random.sample(im_files,sample_size)\n",
        "\n",
        "# if not os.path.exists(new_im_path):\n",
        "#     os.makedirs(new_im_path)\n",
        "\n",
        "# for file in new_files_im:\n",
        "#     shutil.copy(os.path.join('/content/drive/MyDrive/output/im', file), new_im_path)\n",
        "\n",
        "\n",
        "\n",
        "\n"
      ]
    },
    {
      "cell_type": "markdown",
      "metadata": {
        "id": "VESyo14W4ofI"
      },
      "source": []
    },
    {
      "cell_type": "code",
      "execution_count": 3,
      "metadata": {
        "colab": {
          "base_uri": "https://localhost:8080/"
        },
        "id": "rd26B_N0lMW3",
        "outputId": "f953da4e-159e-4f7d-da5a-3a3c2df00af3"
      },
      "outputs": [
        {
          "output_type": "stream",
          "name": "stdout",
          "text": [
            "JSON file created successfully.\n"
          ]
        }
      ],
      "source": [
        "import json\n",
        "\n",
        "# Define a dictionary\n",
        "data={\n",
        "    \"name\": \"inpainting_celebahq\",\n",
        "    \"gpu_ids\": [0],\n",
        "    \"seed\" : -1,\n",
        "    \"finetune_norm\": False,\n",
        "\n",
        "    \"path\": {\n",
        "        \"base_dir\": \"experiments\",\n",
        "        \"code\": \"code\",\n",
        "        \"tb_logger\": \"tb_logger\",\n",
        "        \"results\": \"results\",\n",
        "        \"checkpoint\": \"checkpoint\",\n",
        "        \"resume_state\": \"200\"\n",
        "\n",
        "          },\n",
        "\n",
        "    \"datasets\": {\n",
        "        \"train\": {\n",
        "            \"which_dataset\": {\n",
        "                \"name\": \"InpaintDataset\",\n",
        "                \"args\":{\n",
        "                    \"data_root\": \"/content/drive/MyDrive/output/new_im1\",\n",
        "                    \"data_len\": -1,\n",
        "                    \"mask_config\": {\n",
        "                        \"mask_mode\": \"hybrid\"\n",
        "                    }\n",
        "                }\n",
        "            },\n",
        "            \"dataloader\":{\n",
        "                \"validation_split\": 2,\n",
        "                \"args\":{\n",
        "                    \"batch_size\": 3,\n",
        "                    \"num_workers\": 4,\n",
        "                    \"shuffle\": True,\n",
        "                    \"pin_memory\": True,\n",
        "                    \"drop_last\": True\n",
        "                },\n",
        "                \"val_args\":{\n",
        "                    \"batch_size\": 1,\n",
        "                    \"num_workers\": 4,\n",
        "                    \"shuffle\": False,\n",
        "                    \"pin_memory\": True,\n",
        "                    \"drop_last\": False\n",
        "                }\n",
        "            }\n",
        "        },\n",
        "        \"test\": {\n",
        "            \"which_dataset\": {\n",
        "                \"name\": \"InpaintDataset\",\n",
        "                \"args\":{\n",
        "                    \"data_root\": \"/content/drive/MyDrive/output/new_mask1\",\n",
        "                    \"mask_config\": {\n",
        "                        \"mask_mode\": \"center\"\n",
        "                    }\n",
        "                }\n",
        "            },\n",
        "            \"dataloader\":{\n",
        "                \"args\":{\n",
        "                    \"batch_size\": 1,\n",
        "                    \"num_workers\": 1,\n",
        "                    \"pin_memory\": True\n",
        "                }\n",
        "            }\n",
        "        }\n",
        "    },\n",
        "\n",
        "    \"model\": {\n",
        "        \"which_model\": {\n",
        "            \"name\": [\"models.model\", \"Palette\"],\n",
        "            \"args\": {\n",
        "                \"sample_num\": 8,\n",
        "                \"task\": \"inpainting\",\n",
        "                \"ema_scheduler\": {\n",
        "                    \"ema_start\": 1,\n",
        "                    \"ema_iter\": 1,\n",
        "                    \"ema_decay\": 0.9999\n",
        "                },\n",
        "                \"optimizers\": [\n",
        "                    { \"lr\": 5e-5, \"weight_decay\": 0}\n",
        "                ]\n",
        "            }\n",
        "        },\n",
        "        \"which_networks\": [\n",
        "            {\n",
        "                \"name\": [\"models.network\", \"Network\"],\n",
        "                \"args\": {\n",
        "                    \"init_type\": \"kaiming\",\n",
        "                    \"module_name\": \"guided_diffusion\",\n",
        "                    \"unet\": {\n",
        "                        \"in_channel\": 6,\n",
        "                        \"out_channel\": 3,\n",
        "                        \"inner_channel\": 64,\n",
        "                        \"channel_mults\": [\n",
        "                            1,\n",
        "                            2,\n",
        "                            4,\n",
        "                            8\n",
        "                        ],\n",
        "                        \"attn_res\": [\n",
        "                            16\n",
        "                        ],\n",
        "                        \"num_head_channels\": 32,\n",
        "                        \"res_blocks\": 2,\n",
        "                        \"dropout\": 0.2,\n",
        "                        \"image_size\": 256\n",
        "                    },\n",
        "                    \"beta_schedule\": {\n",
        "                        \"train\": {\n",
        "                            \"schedule\": \"linear\",\n",
        "                            \"n_timestep\": 2000,\n",
        "                            \"linear_start\": 1e-6,\n",
        "                            \"linear_end\": 0.01\n",
        "                        },\n",
        "                        \"test\": {\n",
        "                            \"schedule\": \"linear\",\n",
        "                            \"n_timestep\": 1000,\n",
        "                            \"linear_start\": 1e-4,\n",
        "                            \"linear_end\": 0.09\n",
        "                        }\n",
        "                    }\n",
        "                }\n",
        "            }\n",
        "        ],\n",
        "        \"which_losses\": [\n",
        "            \"mse_loss\"\n",
        "        ],\n",
        "        \"which_metrics\": [\n",
        "            \"mae\"\n",
        "        ]\n",
        "    },\n",
        "\n",
        "    \"train\": {\n",
        "        \"n_epoch\": 1e8,\n",
        "        \"n_iter\": 1e8,\n",
        "        \"val_epoch\": 5,\n",
        "        \"save_checkpoint_epoch\": 10,\n",
        "        \"log_iter\": 1e3,\n",
        "        \"tensorboard\" : True\n",
        "    },\n",
        "\n",
        "    \"debug\": {\n",
        "        \"val_epoch\": 1,\n",
        "        \"save_checkpoint_epoch\": 1,\n",
        "        \"log_iter\": 2,\n",
        "        \"debug_split\": 50\n",
        "    }\n",
        "}\n",
        "\n",
        "# Define the file path\n",
        "file_path = '/content/sample.json'\n",
        "\n",
        "# Write the dictionary to a JSON file\n",
        "with open(file_path, 'w') as f:\n",
        "    json.dump(data, f)\n",
        "\n",
        "print(\"JSON file created successfully.\")\n"
      ]
    },
    {
      "cell_type": "code",
      "source": [
        "import json\n",
        "\n",
        "data1={\n",
        "    \"name\": \"new_mask1\",\n",
        "    \"gpu_ids\": [0],\n",
        "    \"seed\" : -1,\n",
        "    \"finetune_norm\": False,\n",
        "    \"path\": {\n",
        "        \"base_dir\": \"experiments\",\n",
        "        \"code\": \"code\",\n",
        "        \"tb_logger\": \"tb_logger\",\n",
        "        \"results\": \"results\",\n",
        "        \"checkpoint\": \"checkpoint\",\n",
        "        \"resume_state\": \"/content/Palette-Image-to-Image-Diffusion-Models/10\"\n",
        "    },\n",
        "\n",
        "    \"datasets\": {\n",
        "        \"train\": {\n",
        "            \"which_dataset\": {\n",
        "                \"name\": \"new_im1\",\n",
        "                \"args\":{\n",
        "                    \"data_root\": \"/content/drive/MyDrive/output/new_im1\",\n",
        "                    \"data_len\": -1,\n",
        "                    \"mask_config\": {\n",
        "                        \"mask_mode\": \"hybrid\"\n",
        "                    }\n",
        "                }\n",
        "            },\n",
        "            \"dataloader\":{\n",
        "                \"validation_split\": 2,\n",
        "                \"args\":{\n",
        "                    \"batch_size\": 3,\n",
        "                    \"num_workers\": 4,\n",
        "                    \"shuffle\": True,\n",
        "                    \"pin_memory\": True,\n",
        "                    \"drop_last\": True\n",
        "                },\n",
        "                \"val_args\":{\n",
        "                    \"batch_size\": 1,\n",
        "                    \"num_workers\": 4,\n",
        "                    \"shuffle\": False,\n",
        "                    \"pin_memory\": True,\n",
        "                    \"drop_last\": False\n",
        "                }\n",
        "            }\n",
        "        },\n",
        "        \"test\": {\n",
        "            \"which_dataset\": {\n",
        "                \"name\": \"new_mask1\",\n",
        "                \"args\":{\n",
        "                    \"data_root\": \"/content/drive/MyDrive/output/new_mask1\",\n",
        "                    \"mask_config\": {\n",
        "                        \"mask_mode\": \"center\"\n",
        "                    }\n",
        "                }\n",
        "            },\n",
        "            \"dataloader\":{\n",
        "                \"args\":{\n",
        "                    \"batch_size\": 8,\n",
        "                    \"num_workers\": 4,\n",
        "                    \"pin_memory\": True\n",
        "                }\n",
        "            }\n",
        "        }\n",
        "    },\n",
        "\n",
        "    \"model\": {\n",
        "        \"which_model\": {\n",
        "            \"name\": [\"models.model\", \"Palette\"],\n",
        "            \"args\": {\n",
        "                \"sample_num\": 8,\n",
        "                \"task\": \"inpainting\",\n",
        "                \"ema_scheduler\": {\n",
        "                    \"ema_start\": 1,\n",
        "                    \"ema_iter\": 1,\n",
        "                    \"ema_decay\": 0.9999\n",
        "                },\n",
        "                \"optimizers\": [\n",
        "                    { \"lr\": 5e-5, \"weight_decay\": 0}\n",
        "                ]\n",
        "            }\n",
        "        },\n",
        "        \"which_networks\": [\n",
        "            {\n",
        "                \"name\": [\"models.network\", \"Network\"],\n",
        "                \"args\": {\n",
        "                    \"init_type\": \"kaiming\",\n",
        "                    \"module_name\": \"guided_diffusion\",\n",
        "                    \"unet\": {\n",
        "                        \"in_channel\": 6,\n",
        "                        \"out_channel\": 3,\n",
        "                        \"inner_channel\": 64,\n",
        "                        \"channel_mults\": [\n",
        "                            1,\n",
        "                            2,\n",
        "                            4,\n",
        "                            8\n",
        "                        ],\n",
        "                        \"attn_res\": [\n",
        "                            16\n",
        "                        ],\n",
        "                        \"num_head_channels\": 32,\n",
        "                        \"res_blocks\": 2,\n",
        "                        \"dropout\": 0.2,\n",
        "                        \"image_size\": 256\n",
        "                    },\n",
        "                    \"beta_schedule\": {\n",
        "                        \"train\": {\n",
        "                            \"schedule\": \"linear\",\n",
        "                            \"n_timestep\": 2000,\n",
        "                            \"linear_start\": 1e-6,\n",
        "                            \"linear_end\": 0.01\n",
        "                        },\n",
        "                        \"test\": {\n",
        "                            \"schedule\": \"linear\",\n",
        "                            \"n_timestep\": 1000,\n",
        "                            \"linear_start\": 1e-4,\n",
        "                            \"linear_end\": 0.09\n",
        "                        }\n",
        "                    }\n",
        "                }\n",
        "            }\n",
        "        ],\n",
        "        \"which_losses\": [\n",
        "            \"mse_loss\"\n",
        "        ],\n",
        "        \"which_metrics\": [\n",
        "            \"mae\"\n",
        "        ]\n",
        "    },\n",
        "\n",
        "    \"train\": {\n",
        "        \"n_epoch\": 1e8,\n",
        "        \"n_iter\": 1e8,\n",
        "        \"val_epoch\": 5,\n",
        "        \"save_checkpoint_epoch\": 10,\n",
        "        \"log_iter\": 1e3,\n",
        "        \"tensorboard\" : True\n",
        "    },\n",
        "\n",
        "    \"debug\": {\n",
        "        \"val_epoch\": 1,\n",
        "        \"save_checkpoint_epoch\": 1,\n",
        "        \"log_iter\": 2,\n",
        "        \"debug_split\": 50\n",
        "    }\n",
        "    }\n",
        "\n",
        "# Define the file path\n",
        "file_path = '/content/Palette-Image-to-Image-Diffusion-Models/config/inference.json'\n",
        "\n",
        "# Write the dictionary to a JSON file\n",
        "with open(file_path, 'w') as f:\n",
        "    json.dump(data1, f)\n",
        "\n",
        "print(\"JSON file created successfully.\")\n"
      ],
      "metadata": {
        "colab": {
          "base_uri": "https://localhost:8080/"
        },
        "id": "xUenqwTJOzmg",
        "outputId": "d4eb860b-9b98-4d52-e9d7-4459bb08ec83"
      },
      "execution_count": null,
      "outputs": [
        {
          "output_type": "stream",
          "name": "stdout",
          "text": [
            "JSON file created successfully.\n"
          ]
        }
      ]
    },
    {
      "cell_type": "markdown",
      "metadata": {
        "id": "fsR1t6iUgFrO"
      },
      "source": [
        "### Prepare pertrained-model\n",
        "Two ways to prepare your model are provided below.\n",
        "\n"
      ]
    },
    {
      "cell_type": "markdown",
      "metadata": {
        "id": "_Z7bzkf-m2Gp"
      },
      "source": [
        "#### Download from the google driver\n",
        "1. Go [here](https://drive.google.com/drive/folders/13YZ2UAmGJ-b7DICr-FDAPM7gctreJEoH?usp=sharing), right click on `.pth` file, and hit `Make a copy`. Next, locate the files in your own google drive, and rename them from `Copy of 200_Network.pth` to `200_Network.pth`. Note, `.state` file is not required for the simple inference.\n",
        "2. Next, right click on each file, and hit `Get link`. Click on `Restricted`, and change it to `Anyone with the link...`, as `Viewer`. Now, copy the links. They should look something like this: `https://drive.google.com/file/d/<file id>/view?usp=sharing`. Copy the file id, and paste them into the `gdown` commands below.\n"
      ]
    },
    {
      "cell_type": "code",
      "execution_count": null,
      "metadata": {
        "colab": {
          "base_uri": "https://localhost:8080/"
        },
        "id": "3SIMXcmtgw7r",
        "outputId": "db0445e4-89b0-4d9f-cb29-924d5b49acf6"
      },
      "outputs": [
        {
          "name": "stdout",
          "output_type": "stream",
          "text": [
            "/content/Palette-Image-to-Image-Diffusion-Models\n",
            "/usr/local/lib/python3.10/dist-packages/gdown/cli.py:121: FutureWarning: Option `--id` was deprecated in version 4.3.1 and will be removed in 5.0. You don't need to pass it anymore to use a file ID.\n",
            "  warnings.warn(\n",
            "Downloading...\n",
            "From: https://drive.google.com/uc?id=1gzNs8_9LuysjbWsHftXdHp0jDYOyIgY1\n",
            "To: /content/Palette-Image-to-Image-Diffusion-Models/200_Network.pth\n",
            "100% 251M/251M [00:03<00:00, 65.1MB/s]\n"
          ]
        }
      ],
      "source": [
        "%cd /content/Palette-Image-to-Image-Diffusion-Models/\n",
        "!gdown --id 1gzNs8_9LuysjbWsHftXdHp0jDYOyIgY1"
      ]
    },
    {
      "cell_type": "markdown",
      "metadata": {
        "id": "jrjwaqcxkdwZ"
      },
      "source": [
        "#### Upload from the localhost\n",
        "If `gdown` command did not work, you can manually upload files for the pre-trained model.\n",
        "1. Download the [files](https://drive.google.com/drive/folders/13YZ2UAmGJ-b7DICr-FDAPM7gctreJEoH?usp=sharing) to localhost.\n",
        "2. Click the `files` button on the left hand side of the screen, and find the folder labled `Palette-Image-to-Image-Diffusion-Models`. Click the three dots on the right of the folder, and click `upload`. Then, select the model files that you downloaded."
      ]
    },
    {
      "cell_type": "markdown",
      "metadata": {
        "id": "Lhi2YNulm67p"
      },
      "source": [
        "### Edit configure file"
      ]
    },
    {
      "cell_type": "code",
      "execution_count": null,
      "metadata": {
        "colab": {
          "base_uri": "https://localhost:8080/"
        },
        "id": "aHYVypcQrpvR",
        "outputId": "3f241eab-d08f-4aae-cecc-3b6c3f7529d7"
      },
      "outputs": [
        {
          "name": "stdout",
          "output_type": "stream",
          "text": [
            "/content/Palette-Image-to-Image-Diffusion-Models/config\n"
          ]
        }
      ],
      "source": [
        "%cd /content/Palette-Image-to-Image-Diffusion-Models/config/"
      ]
    },
    {
      "cell_type": "markdown",
      "metadata": {
        "id": "Cl3dQGaFxlhH"
      },
      "source": [
        "#### Create patchfile"
      ]
    },
    {
      "cell_type": "markdown",
      "metadata": {
        "id": "ywXc4tVSRu6m"
      },
      "source": [
        "Create patchfile, it will update the configuration file to inference for centering mask."
      ]
    },
    {
      "cell_type": "markdown",
      "metadata": {
        "id": "eYVs0rc_w0Ga"
      },
      "source": [
        "#### Apply the patch file\n",
        "The error `patch unexpectedly ends in middle of line` can be ignored."
      ]
    },
    {
      "cell_type": "code",
      "execution_count": null,
      "metadata": {
        "colab": {
          "base_uri": "https://localhost:8080/"
        },
        "id": "qgaMnuL7rseR",
        "outputId": "f1cf721a-aa06-4f40-8abd-042d5682e9fd"
      },
      "outputs": [
        {
          "name": "stdout",
          "output_type": "stream",
          "text": [
            "Reading package lists... Done\n",
            "Building dependency tree... Done\n",
            "Reading state information... Done\n",
            "The following NEW packages will be installed:\n",
            "  dos2unix\n",
            "0 upgraded, 1 newly installed, 0 to remove and 18 not upgraded.\n",
            "Need to get 384 kB of archives.\n",
            "After this operation, 1,367 kB of additional disk space will be used.\n",
            "Get:1 http://archive.ubuntu.com/ubuntu jammy/universe amd64 dos2unix amd64 7.4.2-2 [384 kB]\n",
            "Fetched 384 kB in 2s (237 kB/s)\n",
            "Selecting previously unselected package dos2unix.\n",
            "(Reading database ... 120874 files and directories currently installed.)\n",
            "Preparing to unpack .../dos2unix_7.4.2-2_amd64.deb ...\n",
            "Unpacking dos2unix (7.4.2-2) ...\n",
            "Setting up dos2unix (7.4.2-2) ...\n",
            "Processing triggers for man-db (2.10.2-1) ...\n",
            "dos2unix: converting file inpainting_celebahq.json to Unix format...\n",
            "patching file inpainting_celebahq.json\n"
          ]
        }
      ],
      "source": [
        "!apt-get install dos2unix\n",
        "!dos2unix inpainting_celebahq.json\n",
        "!patch < inpainting_celebahq.patch"
      ]
    },
    {
      "cell_type": "code",
      "execution_count": null,
      "metadata": {
        "colab": {
          "base_uri": "https://localhost:8080/",
          "height": 363
        },
        "id": "57FjQ9plp9tn",
        "outputId": "a74e32a9-f18d-4030-c400-4ea671e04b9f"
      },
      "outputs": [
        {
          "ename": "TypeError",
          "evalue": "ignored",
          "output_type": "error",
          "traceback": [
            "\u001b[0;31m---------------------------------------------------------------------------\u001b[0m",
            "\u001b[0;31mTypeError\u001b[0m                                 Traceback (most recent call last)",
            "\u001b[0;32m<ipython-input-8-1876207542cb>\u001b[0m in \u001b[0;36m<cell line: 30>\u001b[0;34m()\u001b[0m\n\u001b[1;32m     28\u001b[0m \u001b[0;34m\u001b[0m\u001b[0m\n\u001b[1;32m     29\u001b[0m \u001b[0;31m# Use DataLoader to create an iterable dataset\u001b[0m\u001b[0;34m\u001b[0m\u001b[0;34m\u001b[0m\u001b[0m\n\u001b[0;32m---> 30\u001b[0;31m \u001b[0mdataloader\u001b[0m \u001b[0;34m=\u001b[0m \u001b[0mtorch\u001b[0m\u001b[0;34m.\u001b[0m\u001b[0mutils\u001b[0m\u001b[0;34m.\u001b[0m\u001b[0mdata\u001b[0m\u001b[0;34m.\u001b[0m\u001b[0mDataLoader\u001b[0m\u001b[0;34m(\u001b[0m\u001b[0mcd8_dataset\u001b[0m\u001b[0;34m,\u001b[0m \u001b[0mbatch_size\u001b[0m\u001b[0;34m=\u001b[0m\u001b[0;36m4\u001b[0m\u001b[0;34m,\u001b[0m \u001b[0mshuffle\u001b[0m\u001b[0;34m=\u001b[0m\u001b[0;32mTrue\u001b[0m\u001b[0;34m,\u001b[0m \u001b[0mnum_workers\u001b[0m\u001b[0;34m=\u001b[0m\u001b[0;36m2\u001b[0m\u001b[0;34m)\u001b[0m\u001b[0;34m\u001b[0m\u001b[0;34m\u001b[0m\u001b[0m\n\u001b[0m",
            "\u001b[0;32m/usr/local/lib/python3.10/dist-packages/torch/utils/data/dataloader.py\u001b[0m in \u001b[0;36m__init__\u001b[0;34m(self, dataset, batch_size, shuffle, sampler, batch_sampler, num_workers, collate_fn, pin_memory, drop_last, timeout, worker_init_fn, multiprocessing_context, generator, prefetch_factor, persistent_workers, pin_memory_device)\u001b[0m\n\u001b[1;32m    347\u001b[0m             \u001b[0;32melse\u001b[0m\u001b[0;34m:\u001b[0m  \u001b[0;31m# map-style\u001b[0m\u001b[0;34m\u001b[0m\u001b[0;34m\u001b[0m\u001b[0m\n\u001b[1;32m    348\u001b[0m                 \u001b[0;32mif\u001b[0m \u001b[0mshuffle\u001b[0m\u001b[0;34m:\u001b[0m\u001b[0;34m\u001b[0m\u001b[0;34m\u001b[0m\u001b[0m\n\u001b[0;32m--> 349\u001b[0;31m                     \u001b[0msampler\u001b[0m \u001b[0;34m=\u001b[0m \u001b[0mRandomSampler\u001b[0m\u001b[0;34m(\u001b[0m\u001b[0mdataset\u001b[0m\u001b[0;34m,\u001b[0m \u001b[0mgenerator\u001b[0m\u001b[0;34m=\u001b[0m\u001b[0mgenerator\u001b[0m\u001b[0;34m)\u001b[0m  \u001b[0;31m# type: ignore[arg-type]\u001b[0m\u001b[0;34m\u001b[0m\u001b[0;34m\u001b[0m\u001b[0m\n\u001b[0m\u001b[1;32m    350\u001b[0m                 \u001b[0;32melse\u001b[0m\u001b[0;34m:\u001b[0m\u001b[0;34m\u001b[0m\u001b[0;34m\u001b[0m\u001b[0m\n\u001b[1;32m    351\u001b[0m                     \u001b[0msampler\u001b[0m \u001b[0;34m=\u001b[0m \u001b[0mSequentialSampler\u001b[0m\u001b[0;34m(\u001b[0m\u001b[0mdataset\u001b[0m\u001b[0;34m)\u001b[0m  \u001b[0;31m# type: ignore[arg-type]\u001b[0m\u001b[0;34m\u001b[0m\u001b[0;34m\u001b[0m\u001b[0m\n",
            "\u001b[0;32m/usr/local/lib/python3.10/dist-packages/torch/utils/data/sampler.py\u001b[0m in \u001b[0;36m__init__\u001b[0;34m(self, data_source, replacement, num_samples, generator)\u001b[0m\n\u001b[1;32m    137\u001b[0m             \u001b[0;32mraise\u001b[0m \u001b[0mTypeError\u001b[0m\u001b[0;34m(\u001b[0m\u001b[0;34mf\"replacement should be a boolean value, but got replacement={self.replacement}\"\u001b[0m\u001b[0;34m)\u001b[0m\u001b[0;34m\u001b[0m\u001b[0;34m\u001b[0m\u001b[0m\n\u001b[1;32m    138\u001b[0m \u001b[0;34m\u001b[0m\u001b[0m\n\u001b[0;32m--> 139\u001b[0;31m         \u001b[0;32mif\u001b[0m \u001b[0;32mnot\u001b[0m \u001b[0misinstance\u001b[0m\u001b[0;34m(\u001b[0m\u001b[0mself\u001b[0m\u001b[0;34m.\u001b[0m\u001b[0mnum_samples\u001b[0m\u001b[0;34m,\u001b[0m \u001b[0mint\u001b[0m\u001b[0;34m)\u001b[0m \u001b[0;32mor\u001b[0m \u001b[0mself\u001b[0m\u001b[0;34m.\u001b[0m\u001b[0mnum_samples\u001b[0m \u001b[0;34m<=\u001b[0m \u001b[0;36m0\u001b[0m\u001b[0;34m:\u001b[0m\u001b[0;34m\u001b[0m\u001b[0;34m\u001b[0m\u001b[0m\n\u001b[0m\u001b[1;32m    140\u001b[0m             \u001b[0;32mraise\u001b[0m \u001b[0mValueError\u001b[0m\u001b[0;34m(\u001b[0m\u001b[0;34mf\"num_samples should be a positive integer value, but got num_samples={self.num_samples}\"\u001b[0m\u001b[0;34m)\u001b[0m\u001b[0;34m\u001b[0m\u001b[0;34m\u001b[0m\u001b[0m\n\u001b[1;32m    141\u001b[0m \u001b[0;34m\u001b[0m\u001b[0m\n",
            "\u001b[0;32m/usr/local/lib/python3.10/dist-packages/torch/utils/data/sampler.py\u001b[0m in \u001b[0;36mnum_samples\u001b[0;34m(self)\u001b[0m\n\u001b[1;32m    144\u001b[0m         \u001b[0;31m# dataset size might change at runtime\u001b[0m\u001b[0;34m\u001b[0m\u001b[0;34m\u001b[0m\u001b[0m\n\u001b[1;32m    145\u001b[0m         \u001b[0;32mif\u001b[0m \u001b[0mself\u001b[0m\u001b[0;34m.\u001b[0m\u001b[0m_num_samples\u001b[0m \u001b[0;32mis\u001b[0m \u001b[0;32mNone\u001b[0m\u001b[0;34m:\u001b[0m\u001b[0;34m\u001b[0m\u001b[0;34m\u001b[0m\u001b[0m\n\u001b[0;32m--> 146\u001b[0;31m             \u001b[0;32mreturn\u001b[0m \u001b[0mlen\u001b[0m\u001b[0;34m(\u001b[0m\u001b[0mself\u001b[0m\u001b[0;34m.\u001b[0m\u001b[0mdata_source\u001b[0m\u001b[0;34m)\u001b[0m\u001b[0;34m\u001b[0m\u001b[0;34m\u001b[0m\u001b[0m\n\u001b[0m\u001b[1;32m    147\u001b[0m         \u001b[0;32mreturn\u001b[0m \u001b[0mself\u001b[0m\u001b[0;34m.\u001b[0m\u001b[0m_num_samples\u001b[0m\u001b[0;34m\u001b[0m\u001b[0;34m\u001b[0m\u001b[0m\n\u001b[1;32m    148\u001b[0m \u001b[0;34m\u001b[0m\u001b[0m\n",
            "\u001b[0;32m<ipython-input-8-1876207542cb>\u001b[0m in \u001b[0;36m__len__\u001b[0;34m(self)\u001b[0m\n\u001b[1;32m     10\u001b[0m     \u001b[0;32mdef\u001b[0m \u001b[0m__len__\u001b[0m\u001b[0;34m(\u001b[0m\u001b[0mself\u001b[0m\u001b[0;34m)\u001b[0m\u001b[0;34m:\u001b[0m\u001b[0;34m\u001b[0m\u001b[0;34m\u001b[0m\u001b[0m\n\u001b[1;32m     11\u001b[0m         \u001b[0;31m# Return the total number of samples in the dataset\u001b[0m\u001b[0;34m\u001b[0m\u001b[0;34m\u001b[0m\u001b[0m\n\u001b[0;32m---> 12\u001b[0;31m         \u001b[0;32mreturn\u001b[0m \u001b[0mlen\u001b[0m\u001b[0;34m(\u001b[0m\u001b[0mself\u001b[0m\u001b[0;34m.\u001b[0m\u001b[0mdata\u001b[0m\u001b[0;34m)\u001b[0m\u001b[0;34m\u001b[0m\u001b[0;34m\u001b[0m\u001b[0m\n\u001b[0m\u001b[1;32m     13\u001b[0m \u001b[0;34m\u001b[0m\u001b[0m\n\u001b[1;32m     14\u001b[0m     \u001b[0;32mdef\u001b[0m \u001b[0m__getitem__\u001b[0m\u001b[0;34m(\u001b[0m\u001b[0mself\u001b[0m\u001b[0;34m,\u001b[0m \u001b[0midx\u001b[0m\u001b[0;34m)\u001b[0m\u001b[0;34m:\u001b[0m\u001b[0;34m\u001b[0m\u001b[0;34m\u001b[0m\u001b[0m\n",
            "\u001b[0;31mTypeError\u001b[0m: object of type 'ellipsis' has no len()"
          ]
        }
      ],
      "source": [
        "import torch\n",
        "from torch.utils.data import Dataset\n",
        "\n",
        "class CD8Dataset(Dataset):\n",
        "    def __init__(self, data_path, transform=None):\n",
        "        # Initialize data, file paths, or any other necessary components\n",
        "        self.data = [\n",
        "    {'image_path': 'path_to_image_1', 'label': 0},\n",
        "    {'image_path': 'path_to_image_2', 'label': 1},\n",
        "    # Add more data samples as needed\n",
        "]\n",
        "\n",
        "        self.transform = transform\n",
        "\n",
        "    def __len__(self):\n",
        "        # Return the total number of samples in the dataset\n",
        "        return len(self.data)\n",
        "\n",
        "    def __getitem__(self, idx):\n",
        "        # Retrieve an individual item from the dataset at the specified index\n",
        "        sample = self.data[idx]\n",
        "\n",
        "        # Apply any necessary transformations to the sample\n",
        "        if self.transform:\n",
        "            sample = self.transform(sample)\n",
        "\n",
        "        return sample\n",
        "\n",
        "# Example usage\n",
        "data_path = \"/content/drive/MyDrive/output/new_mask1\"\n",
        "transform = None  # Add your custom transformations if required\n",
        "cd8_dataset = CD8Dataset(data_path, transform)\n",
        "\n",
        "# Use DataLoader to create an iterable dataset\n",
        "dataloader = torch.utils.data.DataLoader(cd8_dataset, batch_size=4, shuffle=True, num_workers=2)\n"
      ]
    },
    {
      "cell_type": "markdown",
      "metadata": {
        "id": "ww-rh1S4fQP0"
      },
      "source": [
        "## Inference\n",
        "It will cost several minutes depending on allocated GPU.\n",
        "\n",
        "Output images will be located under ./experiments/\\<some folder\\>/results/test."
      ]
    },
    {
      "cell_type": "code",
      "execution_count": null,
      "metadata": {
        "colab": {
          "base_uri": "https://localhost:8080/"
        },
        "id": "wkp0uHqiYJlU",
        "outputId": "b01a652b-d6f6-4e0b-9972-b7ca54438624"
      },
      "outputs": [
        {
          "name": "stdout",
          "output_type": "stream",
          "text": [
            "/content/Palette-Image-to-Image-Diffusion-Models\n"
          ]
        }
      ],
      "source": [
        "%cd /content/Palette-Image-to-Image-Diffusion-Models/"
      ]
    },
    {
      "cell_type": "code",
      "execution_count": null,
      "metadata": {
        "colab": {
          "base_uri": "https://localhost:8080/"
        },
        "id": "yQC6z_oUAErh",
        "outputId": "1b1fbeb9-3dce-4234-a3d1-515153ec1cef"
      },
      "outputs": [
        {
          "name": "stdout",
          "output_type": "stream",
          "text": [
            "rm: cannot remove '/content/drive/MyDrive/output/new_mask1/YTMA79-10_12_1437_184.png_r438_c181_rot2.png': No such file or directory\n"
          ]
        }
      ],
      "source": [
        "%rm '/content/drive/MyDrive/output/new_mask1/YTMA79-10_12_1437_184.png_r438_c181_rot2.png'"
      ]
    },
    {
      "cell_type": "markdown",
      "metadata": {
        "id": "cZuFIkMcaPsC"
      },
      "source": []
    },
    {
      "cell_type": "code",
      "execution_count": null,
      "metadata": {
        "id": "lgJlA9rGaS0T"
      },
      "outputs": [],
      "source": [
        "#init_obj is in parser.py\n",
        "#create_model is called in run.py and defined in models init.py"
      ]
    },
    {
      "cell_type": "code",
      "execution_count": null,
      "metadata": {
        "id": "GmSEPhUoFazJ"
      },
      "outputs": [],
      "source": []
    },
    {
      "cell_type": "markdown",
      "metadata": {
        "id": "f3k3VpsSaBZ9"
      },
      "source": []
    },
    {
      "cell_type": "code",
      "execution_count": null,
      "metadata": {
        "colab": {
          "base_uri": "https://localhost:8080/"
        },
        "id": "bjME8TzefEBk",
        "outputId": "7c35cbe3-03c8-49fe-8f3f-002a17bdacf6"
      },
      "outputs": [
        {
          "output_type": "stream",
          "name": "stdout",
          "text": [
            "/content/Palette-Image-to-Image-Diffusion-Models\n",
            "export CUDA_VISIBLE_DEVICES=0\n",
            "/content/Palette-Image-to-Image-Diffusion-Models/run.py:28: UserWarning: You have chosen to use cudnn for accleration. torch.backends.cudnn.enabled=True\n",
            "  warnings.warn('You have chosen to use cudnn for accleration. torch.backends.cudnn.enabled=True')\n",
            "2023-12-06 20:59:40.079475: E tensorflow/compiler/xla/stream_executor/cuda/cuda_dnn.cc:9342] Unable to register cuDNN factory: Attempting to register factory for plugin cuDNN when one has already been registered\n",
            "2023-12-06 20:59:40.079528: E tensorflow/compiler/xla/stream_executor/cuda/cuda_fft.cc:609] Unable to register cuFFT factory: Attempting to register factory for plugin cuFFT when one has already been registered\n",
            "2023-12-06 20:59:40.079561: E tensorflow/compiler/xla/stream_executor/cuda/cuda_blas.cc:1518] Unable to register cuBLAS factory: Attempting to register factory for plugin cuBLAS when one has already been registered\n",
            "2023-12-06 20:59:41.201253: W tensorflow/compiler/tf2tensorrt/utils/py_utils.cc:38] TF-TRT Warning: Could not find TensorRT\n",
            " 99% 899/905 [15:20<00:05,  1.05it/s]"
          ]
        }
      ],
      "source": [
        "%cd /content/Palette-Image-to-Image-Diffusion-Models/\n",
        "!python run.py -p train -c /content/sample.json\n"
      ]
    },
    {
      "cell_type": "code",
      "source": [
        "%cd /content/Palette-Image-to-Image-Diffusion-Models/\n",
        "!python run.py -c config/inference.json -p test"
      ],
      "metadata": {
        "colab": {
          "base_uri": "https://localhost:8080/"
        },
        "id": "HjuLE6EqOpKj",
        "outputId": "6ceb72d8-3dce-418d-9c77-ab3061de7c26"
      },
      "execution_count": null,
      "outputs": [
        {
          "output_type": "stream",
          "name": "stdout",
          "text": [
            "/content/Palette-Image-to-Image-Diffusion-Models\n",
            "export CUDA_VISIBLE_DEVICES=0\n",
            "/content/Palette-Image-to-Image-Diffusion-Models/run.py:28: UserWarning: You have chosen to use cudnn for accleration. torch.backends.cudnn.enabled=True\n",
            "  warnings.warn('You have chosen to use cudnn for accleration. torch.backends.cudnn.enabled=True')\n",
            "2023-12-01 20:30:36.156306: E tensorflow/compiler/xla/stream_executor/cuda/cuda_dnn.cc:9342] Unable to register cuDNN factory: Attempting to register factory for plugin cuDNN when one has already been registered\n",
            "2023-12-01 20:30:36.156357: E tensorflow/compiler/xla/stream_executor/cuda/cuda_fft.cc:609] Unable to register cuFFT factory: Attempting to register factory for plugin cuFFT when one has already been registered\n",
            "2023-12-01 20:30:36.156384: E tensorflow/compiler/xla/stream_executor/cuda/cuda_blas.cc:1518] Unable to register cuBLAS factory: Attempting to register factory for plugin cuBLAS when one has already been registered\n",
            "2023-12-01 20:30:37.269446: W tensorflow/compiler/tf2tensorrt/utils/py_utils.cc:38] TF-TRT Warning: Could not find TensorRT\n",
            "b\n",
            "<module 'data.dataset' from '/content/Palette-Image-to-Image-Diffusion-Models/data/dataset.py'>\n",
            "new_mask1\n",
            "c\n",
            "d\n",
            "e\n",
            "f\n",
            "g\n",
            "h\n",
            "l\n",
            "b\n",
            "<module 'models.network' from '/content/Palette-Image-to-Image-Diffusion-Models/models/network.py'>\n",
            "Network\n",
            "c\n",
            "d\n",
            "e\n",
            "f\n",
            "g\n",
            "h\n",
            "l\n",
            "b\n",
            "<module 'models.metric' from '/content/Palette-Image-to-Image-Diffusion-Models/models/metric.py'>\n",
            "mae\n",
            "c\n",
            "d\n",
            "e\n",
            "i\n",
            "j\n",
            "k\n",
            "l\n",
            "b\n",
            "<module 'models.loss' from '/content/Palette-Image-to-Image-Diffusion-Models/models/loss.py'>\n",
            "mse_loss\n",
            "c\n",
            "d\n",
            "e\n",
            "i\n",
            "j\n",
            "k\n",
            "l\n",
            "b\n",
            "<module 'models.model' from '/content/Palette-Image-to-Image-Diffusion-Models/models/model.py'>\n",
            "Palette\n",
            "c\n",
            "d\n",
            "e\n",
            "f\n",
            "Model\n",
            "m\n",
            "Traceback (most recent call last):\n",
            "  File \"/content/Palette-Image-to-Image-Diffusion-Models/core/praser.py\", line 49, in init_obj\n",
            "    ret = attr(*args, **kwargs)\n",
            "  File \"/content/Palette-Image-to-Image-Diffusion-Models/models/model.py\", line 38, in __init__\n",
            "    self.load_networks()\n",
            "  File \"/content/Palette-Image-to-Image-Diffusion-Models/models/model.py\", line 208, in load_networks\n",
            "    self.load_network(network=self.netG, network_label=netG_label, strict=False)\n",
            "  File \"/content/Palette-Image-to-Image-Diffusion-Models/core/base_model.py\", line 122, in load_network\n",
            "    network.load_state_dict(torch.load(model_path, map_location = lambda storage, loc: Util.set_device(storage)), strict=strict)\n",
            "  File \"/usr/local/lib/python3.10/dist-packages/torch/serialization.py\", line 993, in load\n",
            "    with _open_zipfile_reader(opened_file) as opened_zipfile:\n",
            "  File \"/usr/local/lib/python3.10/dist-packages/torch/serialization.py\", line 447, in __init__\n",
            "    super().__init__(torch._C.PyTorchFileReader(name_or_buffer))\n",
            "RuntimeError: PytorchStreamReader failed reading zip archive: failed finding central directory\n",
            "\n",
            "During handling of the above exception, another exception occurred:\n",
            "\n",
            "Traceback (most recent call last):\n",
            "  File \"/content/Palette-Image-to-Image-Diffusion-Models/run.py\", line 92, in <module>\n",
            "    main_worker(0, 1, opt)\n",
            "  File \"/content/Palette-Image-to-Image-Diffusion-Models/run.py\", line 44, in main_worker\n",
            "    model = create_model(\n",
            "  File \"/content/Palette-Image-to-Image-Diffusion-Models/models/__init__.py\", line 10, in create_model\n",
            "    model = init_obj(model_opt, logger, default_file_name='models.model', init_type='Model')\n",
            "  File \"/content/Palette-Image-to-Image-Diffusion-Models/core/praser.py\", line 65, in init_obj\n",
            "    raise NotImplementedError('{} [{:s}() form {:s}] not recognized.'.format(init_type, class_name, file_name))\n",
            "NotImplementedError: Model [Palette() form models.model] not recognized.\n"
          ]
        }
      ]
    },
    {
      "cell_type": "code",
      "execution_count": null,
      "metadata": {
        "colab": {
          "base_uri": "https://localhost:8080/",
          "height": 429
        },
        "id": "KIydG2WfRQdw",
        "outputId": "0f46f776-8a54-43e5-f5b0-f887cd927a03"
      },
      "outputs": [
        {
          "ename": "Error",
          "evalue": "ignored",
          "output_type": "error",
          "traceback": [
            "\u001b[0;31m---------------------------------------------------------------------------\u001b[0m",
            "\u001b[0;31mError\u001b[0m                                     Traceback (most recent call last)",
            "\u001b[0;32m<ipython-input-22-a7880e806079>\u001b[0m in \u001b[0;36m<cell line: 3>\u001b[0;34m()\u001b[0m\n\u001b[1;32m      1\u001b[0m \u001b[0;32mimport\u001b[0m \u001b[0mshutil\u001b[0m\u001b[0;34m\u001b[0m\u001b[0;34m\u001b[0m\u001b[0m\n\u001b[1;32m      2\u001b[0m \u001b[0;34m\u001b[0m\u001b[0m\n\u001b[0;32m----> 3\u001b[0;31m \u001b[0mshutil\u001b[0m\u001b[0;34m.\u001b[0m\u001b[0mmove\u001b[0m\u001b[0;34m(\u001b[0m\u001b[0;34m'/content/Palette-Image-to-Image-Diffusion-Models/experiments'\u001b[0m\u001b[0;34m,\u001b[0m\u001b[0;34m'/Users/vishalpuppala/Python'\u001b[0m\u001b[0;34m)\u001b[0m\u001b[0;34m\u001b[0m\u001b[0;34m\u001b[0m\u001b[0m\n\u001b[0m",
            "\u001b[0;32m/usr/lib/python3.10/shutil.py\u001b[0m in \u001b[0;36mmove\u001b[0;34m(src, dst, copy_function)\u001b[0m\n\u001b[1;32m    812\u001b[0m \u001b[0;34m\u001b[0m\u001b[0m\n\u001b[1;32m    813\u001b[0m         \u001b[0;32mif\u001b[0m \u001b[0mos\u001b[0m\u001b[0;34m.\u001b[0m\u001b[0mpath\u001b[0m\u001b[0;34m.\u001b[0m\u001b[0mexists\u001b[0m\u001b[0;34m(\u001b[0m\u001b[0mreal_dst\u001b[0m\u001b[0;34m)\u001b[0m\u001b[0;34m:\u001b[0m\u001b[0;34m\u001b[0m\u001b[0;34m\u001b[0m\u001b[0m\n\u001b[0;32m--> 814\u001b[0;31m             \u001b[0;32mraise\u001b[0m \u001b[0mError\u001b[0m\u001b[0;34m(\u001b[0m\u001b[0;34m\"Destination path '%s' already exists\"\u001b[0m \u001b[0;34m%\u001b[0m \u001b[0mreal_dst\u001b[0m\u001b[0;34m)\u001b[0m\u001b[0;34m\u001b[0m\u001b[0;34m\u001b[0m\u001b[0m\n\u001b[0m\u001b[1;32m    815\u001b[0m     \u001b[0;32mtry\u001b[0m\u001b[0;34m:\u001b[0m\u001b[0;34m\u001b[0m\u001b[0;34m\u001b[0m\u001b[0m\n\u001b[1;32m    816\u001b[0m         \u001b[0mos\u001b[0m\u001b[0;34m.\u001b[0m\u001b[0mrename\u001b[0m\u001b[0;34m(\u001b[0m\u001b[0msrc\u001b[0m\u001b[0;34m,\u001b[0m \u001b[0mreal_dst\u001b[0m\u001b[0;34m)\u001b[0m\u001b[0;34m\u001b[0m\u001b[0;34m\u001b[0m\u001b[0m\n",
            "\u001b[0;31mError\u001b[0m: Destination path '/Users/vishalpuppala/Python/experiments' already exists"
          ]
        }
      ],
      "source": [
        "\n",
        "|||}shutil.move('/content/Palette-Image-to-Image-Diffusion-Models/experiments','/Users/vishalpuppala/Python')\n"
      ]
    },
    {
      "cell_type": "code",
      "execution_count": null,
      "metadata": {
        "id": "E8P8r-C83tUp"
      },
      "outputs": [],
      "source": [
        "!cp <output-file-name> /content/drive/MyDrive/<destination-folder-name>\n"
      ]
    },
    {
      "cell_type": "code",
      "execution_count": null,
      "metadata": {
        "id": "6ex_Lhr2g_dd"
      },
      "outputs": [],
      "source": [
        "import torch\n",
        "import torchvision.models as models\n",
        "\n",
        "\n",
        "loaded_model = torch.load('/content/drive/MyDrive/PytorchModels/10_Network.pth')\n"
      ]
    },
    {
      "cell_type": "code",
      "source": [
        "%cd /content/Palette-Image-to-Image-Diffusion-Models/"
      ],
      "metadata": {
        "colab": {
          "base_uri": "https://localhost:8080/"
        },
        "id": "Pfz0vdEutlhA",
        "outputId": "f2bd869a-100d-4eba-f8e2-db0aada6f501"
      },
      "execution_count": null,
      "outputs": [
        {
          "output_type": "stream",
          "name": "stdout",
          "text": [
            "/content/Palette-Image-to-Image-Diffusion-Models\n"
          ]
        }
      ]
    },
    {
      "cell_type": "code",
      "source": [
        "from PIL import Image\n",
        "from torchvision import transforms\n",
        "import os\n",
        "\n",
        "# Define image preprocessing transforms\n",
        "preprocess = transforms.Compose([\n",
        "    transforms.ToTensor()\n",
        "])\n",
        "mask_config={\"mask_mode\": \"hybrid\"}\n",
        "#model1=new_im1(data_root=data_root,mask_config=mask_config)\n",
        "image_dir='/content/drive/MyDrive/output/new_mask1'\n",
        "for image_path in os.listdir(image_dir):\n",
        "    image = Image.open(os.path.join(image_dir, image_path))\n",
        "    image = preprocess(image)\n",
        "    image = image.unsqueeze(0)\n",
        "\n",
        "    outputs = new_im1(data_root=image_path,mask_config=mask_config)\n",
        "\n",
        "    # Interpret the model's output (e.g., for classification)\n",
        "    _, predicted_class = outputs.max(1)\n"
      ],
      "metadata": {
        "id": "Z40wPQbHZpM0",
        "colab": {
          "base_uri": "https://localhost:8080/",
          "height": 435
        },
        "outputId": "b1efee9a-4d6b-4d4d-f240-79ac738df278"
      },
      "execution_count": null,
      "outputs": [
        {
          "output_type": "error",
          "ename": "AssertionError",
          "evalue": "ignored",
          "traceback": [
            "\u001b[0;31m---------------------------------------------------------------------------\u001b[0m",
            "\u001b[0;31mAssertionError\u001b[0m                            Traceback (most recent call last)",
            "\u001b[0;32m<ipython-input-13-502b7aef9e43>\u001b[0m in \u001b[0;36m<cell line: 12>\u001b[0;34m()\u001b[0m\n\u001b[1;32m     15\u001b[0m     \u001b[0mimage\u001b[0m \u001b[0;34m=\u001b[0m \u001b[0mimage\u001b[0m\u001b[0;34m.\u001b[0m\u001b[0munsqueeze\u001b[0m\u001b[0;34m(\u001b[0m\u001b[0;36m0\u001b[0m\u001b[0;34m)\u001b[0m\u001b[0;34m\u001b[0m\u001b[0;34m\u001b[0m\u001b[0m\n\u001b[1;32m     16\u001b[0m \u001b[0;34m\u001b[0m\u001b[0m\n\u001b[0;32m---> 17\u001b[0;31m     \u001b[0moutputs\u001b[0m \u001b[0;34m=\u001b[0m \u001b[0mnew_im1\u001b[0m\u001b[0;34m(\u001b[0m\u001b[0mdata_root\u001b[0m\u001b[0;34m=\u001b[0m\u001b[0mimage_path\u001b[0m\u001b[0;34m,\u001b[0m\u001b[0mmask_config\u001b[0m\u001b[0;34m=\u001b[0m\u001b[0mmask_config\u001b[0m\u001b[0;34m)\u001b[0m\u001b[0;34m\u001b[0m\u001b[0;34m\u001b[0m\u001b[0m\n\u001b[0m\u001b[1;32m     18\u001b[0m \u001b[0;34m\u001b[0m\u001b[0m\n\u001b[1;32m     19\u001b[0m     \u001b[0;31m# Interpret the model's output (e.g., for classification)\u001b[0m\u001b[0;34m\u001b[0m\u001b[0;34m\u001b[0m\u001b[0m\n",
            "\u001b[0;32m/content/Palette-Image-to-Image-Diffusion-Models/data/dataset.py\u001b[0m in \u001b[0;36m__init__\u001b[0;34m(self, data_root, mask_config, data_len, image_size, loader)\u001b[0m\n\u001b[1;32m     35\u001b[0m \u001b[0;32mclass\u001b[0m \u001b[0mnew_im1\u001b[0m\u001b[0;34m(\u001b[0m\u001b[0mdata\u001b[0m\u001b[0;34m.\u001b[0m\u001b[0mDataset\u001b[0m\u001b[0;34m)\u001b[0m\u001b[0;34m:\u001b[0m\u001b[0;34m\u001b[0m\u001b[0;34m\u001b[0m\u001b[0m\n\u001b[1;32m     36\u001b[0m     \u001b[0;32mdef\u001b[0m \u001b[0m__init__\u001b[0m\u001b[0;34m(\u001b[0m\u001b[0mself\u001b[0m\u001b[0;34m,\u001b[0m \u001b[0mdata_root\u001b[0m\u001b[0;34m,\u001b[0m \u001b[0mmask_config\u001b[0m\u001b[0;34m=\u001b[0m\u001b[0;34m{\u001b[0m\u001b[0;34m}\u001b[0m\u001b[0;34m,\u001b[0m \u001b[0mdata_len\u001b[0m\u001b[0;34m=\u001b[0m\u001b[0;34m-\u001b[0m\u001b[0;36m1\u001b[0m\u001b[0;34m,\u001b[0m \u001b[0mimage_size\u001b[0m\u001b[0;34m=\u001b[0m\u001b[0;34m[\u001b[0m\u001b[0;36m256\u001b[0m\u001b[0;34m,\u001b[0m \u001b[0;36m256\u001b[0m\u001b[0;34m]\u001b[0m\u001b[0;34m,\u001b[0m \u001b[0mloader\u001b[0m\u001b[0;34m=\u001b[0m\u001b[0mpil_loader\u001b[0m\u001b[0;34m)\u001b[0m\u001b[0;34m:\u001b[0m\u001b[0;34m\u001b[0m\u001b[0;34m\u001b[0m\u001b[0m\n\u001b[0;32m---> 37\u001b[0;31m         \u001b[0mimgs\u001b[0m \u001b[0;34m=\u001b[0m \u001b[0mmake_dataset\u001b[0m\u001b[0;34m(\u001b[0m\u001b[0mdata_root\u001b[0m\u001b[0;34m)\u001b[0m\u001b[0;34m\u001b[0m\u001b[0;34m\u001b[0m\u001b[0m\n\u001b[0m\u001b[1;32m     38\u001b[0m         \u001b[0;32mif\u001b[0m \u001b[0mdata_len\u001b[0m \u001b[0;34m>\u001b[0m \u001b[0;36m0\u001b[0m\u001b[0;34m:\u001b[0m\u001b[0;34m\u001b[0m\u001b[0;34m\u001b[0m\u001b[0m\n\u001b[1;32m     39\u001b[0m             \u001b[0mself\u001b[0m\u001b[0;34m.\u001b[0m\u001b[0mimgs\u001b[0m \u001b[0;34m=\u001b[0m \u001b[0mimgs\u001b[0m\u001b[0;34m[\u001b[0m\u001b[0;34m:\u001b[0m\u001b[0mint\u001b[0m\u001b[0;34m(\u001b[0m\u001b[0mdata_len\u001b[0m\u001b[0;34m)\u001b[0m\u001b[0;34m]\u001b[0m\u001b[0;34m\u001b[0m\u001b[0;34m\u001b[0m\u001b[0m\n",
            "\u001b[0;32m/content/Palette-Image-to-Image-Diffusion-Models/data/dataset.py\u001b[0m in \u001b[0;36mmake_dataset\u001b[0;34m(dir)\u001b[0m\n\u001b[1;32m     21\u001b[0m     \u001b[0;32melse\u001b[0m\u001b[0;34m:\u001b[0m\u001b[0;34m\u001b[0m\u001b[0;34m\u001b[0m\u001b[0m\n\u001b[1;32m     22\u001b[0m         \u001b[0mimages\u001b[0m \u001b[0;34m=\u001b[0m \u001b[0;34m[\u001b[0m\u001b[0;34m]\u001b[0m\u001b[0;34m\u001b[0m\u001b[0;34m\u001b[0m\u001b[0m\n\u001b[0;32m---> 23\u001b[0;31m         \u001b[0;32massert\u001b[0m \u001b[0mos\u001b[0m\u001b[0;34m.\u001b[0m\u001b[0mpath\u001b[0m\u001b[0;34m.\u001b[0m\u001b[0misdir\u001b[0m\u001b[0;34m(\u001b[0m\u001b[0mdir\u001b[0m\u001b[0;34m)\u001b[0m\u001b[0;34m,\u001b[0m \u001b[0;34m'%s is not a valid directory'\u001b[0m \u001b[0;34m%\u001b[0m \u001b[0mdir\u001b[0m\u001b[0;34m\u001b[0m\u001b[0;34m\u001b[0m\u001b[0m\n\u001b[0m\u001b[1;32m     24\u001b[0m         \u001b[0;32mfor\u001b[0m \u001b[0mroot\u001b[0m\u001b[0;34m,\u001b[0m \u001b[0m_\u001b[0m\u001b[0;34m,\u001b[0m \u001b[0mfnames\u001b[0m \u001b[0;32min\u001b[0m \u001b[0msorted\u001b[0m\u001b[0;34m(\u001b[0m\u001b[0mos\u001b[0m\u001b[0;34m.\u001b[0m\u001b[0mwalk\u001b[0m\u001b[0;34m(\u001b[0m\u001b[0mdir\u001b[0m\u001b[0;34m)\u001b[0m\u001b[0;34m)\u001b[0m\u001b[0;34m:\u001b[0m\u001b[0;34m\u001b[0m\u001b[0;34m\u001b[0m\u001b[0m\n\u001b[1;32m     25\u001b[0m             \u001b[0;32mfor\u001b[0m \u001b[0mfname\u001b[0m \u001b[0;32min\u001b[0m \u001b[0msorted\u001b[0m\u001b[0;34m(\u001b[0m\u001b[0mfnames\u001b[0m\u001b[0;34m)\u001b[0m\u001b[0;34m:\u001b[0m\u001b[0;34m\u001b[0m\u001b[0;34m\u001b[0m\u001b[0m\n",
            "\u001b[0;31mAssertionError\u001b[0m: YTMA79-10_168_1583_1256.png_r927_c75_blur.png is not a valid directory"
          ]
        }
      ]
    },
    {
      "cell_type": "code",
      "source": [
        "import importlib\n",
        "import inspect\n",
        "import models  # Replace 'my_package' with the actual package name\n",
        "\n",
        "# Load the package to ensure it's imported\n",
        "importlib.import_module('models')\n",
        "\n",
        "# Get a list of all modules in the package\n",
        "package_modules = [name for name, _ in inspect.getmembers(models, inspect.ismodule)]\n",
        "package_modules"
      ],
      "metadata": {
        "colab": {
          "base_uri": "https://localhost:8080/"
        },
        "id": "AtAWmBG0uP7C",
        "outputId": "e91ca83e-24cf-4d13-e296-93e106cf6ca1"
      },
      "execution_count": null,
      "outputs": [
        {
          "output_type": "execute_result",
          "data": {
            "text/plain": [
              "[]"
            ]
          },
          "metadata": {},
          "execution_count": 24
        }
      ]
    },
    {
      "cell_type": "code",
      "source": [],
      "metadata": {
        "id": "W8FiaixXjEhR"
      },
      "execution_count": null,
      "outputs": []
    },
    {
      "cell_type": "code",
      "source": [
        "import torch\n",
        "import torchvision.models as models\n",
        "\n",
        "#https://machinelearningmastery.com/save-and-load-your-pytorch-m\n",
        "#https://pytorch.org/tutorials/beginner/saving_loading_models.html"
      ],
      "metadata": {
        "id": "3PEfZbr9H8xN"
      },
      "execution_count": null,
      "outputs": []
    },
    {
      "cell_type": "code",
      "source": [
        "loaded_model()\n"
      ],
      "metadata": {
        "colab": {
          "base_uri": "https://localhost:8080/",
          "height": 179
        },
        "id": "YzJOzT1A-Gey",
        "outputId": "f3de0cea-a22b-45f9-c80b-f280c0edec97"
      },
      "execution_count": null,
      "outputs": [
        {
          "output_type": "error",
          "ename": "AttributeError",
          "evalue": "ignored",
          "traceback": [
            "\u001b[0;31m---------------------------------------------------------------------------\u001b[0m",
            "\u001b[0;31mAttributeError\u001b[0m                            Traceback (most recent call last)",
            "\u001b[0;32m<ipython-input-13-9b51c0573863>\u001b[0m in \u001b[0;36m<cell line: 1>\u001b[0;34m()\u001b[0m\n\u001b[0;32m----> 1\u001b[0;31m \u001b[0mloaded_model\u001b[0m\u001b[0;34m.\u001b[0m\u001b[0meval\u001b[0m\u001b[0;34m(\u001b[0m\u001b[0;34m)\u001b[0m\u001b[0;34m\u001b[0m\u001b[0;34m\u001b[0m\u001b[0m\n\u001b[0m",
            "\u001b[0;31mAttributeError\u001b[0m: 'collections.OrderedDict' object has no attribute 'eval'"
          ]
        }
      ]
    },
    {
      "cell_type": "code",
      "source": [
        "}}\\\n",
        "\n",
        "/]\\\\=]"
      ],
      "metadata": {
        "id": "4JKzkao86i0M"
      },
      "execution_count": null,
      "outputs": []
    },
    {
      "cell_type": "code",
      "source": [
        "\n",
        "}=\\]\n",
        "]]\n",
        "\\"
      ],
      "metadata": {
        "id": "ZTM5_gF66jpM"
      },
      "execution_count": null,
      "outputs": []
    },
    {
      "cell_type": "code",
      "source": [
        "|\\"
      ],
      "metadata": {
        "id": "mdsr3eTR6kOW"
      },
      "execution_count": null,
      "outputs": []
    },
    {
      "cell_type": "code",
      "source": [
        "\\\n",
        "\n",
        "\\\\\n",
        "\\-=p--p[-===]-==]\\==\\]==\\]\\]=\\"
      ],
      "metadata": {
        "id": "foK3bmea6kd5"
      },
      "execution_count": null,
      "outputs": []
    }
  ],
  "metadata": {
    "accelerator": "GPU",
    "colab": {
      "machine_shape": "hm",
      "provenance": [],
      "toc_visible": true,
      "include_colab_link": true
    },
    "kernelspec": {
      "display_name": "Python 3",
      "name": "python3"
    },
    "language_info": {
      "name": "python"
    }
  },
  "nbformat": 4,
  "nbformat_minor": 0
}